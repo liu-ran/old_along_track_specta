{
 "cells": [
  {
   "cell_type": "code",
   "execution_count": 1,
   "metadata": {
    "collapsed": false
   },
   "outputs": [
    {
     "name": "stdout",
     "output_type": "stream",
     "text": [
      "<module 'xray' from '/home/rpa/xray/xray/__init__.pyc'>\n"
     ]
    }
   ],
   "source": [
    "import numpy as np\n",
    "import xray\n",
    "from matplotlib import pyplot as plt\n",
    "import os\n",
    "import pandas as pd\n",
    "from astropy.convolution import Gaussian2DKernel, convolve\n",
    "\n",
    "%matplotlib inline\n",
    "\n",
    "plt.rcParams['figure.figsize'] = (12,7)\n",
    "plt.rcParams['image.origin'] = 'bottom'\n",
    "\n",
    "print xray"
   ]
  },
  {
   "cell_type": "code",
   "execution_count": 2,
   "metadata": {
    "collapsed": false
   },
   "outputs": [
    {
     "data": {
      "text/plain": [
       "<xray.Dataset>\n",
       "Dimensions:   (lat: 720, lon: 1440, nv: 2, time: 8031)\n",
       "Coordinates:\n",
       "  * lon       (lon) float32 0.125 0.375 0.625 0.875 1.125 1.375 1.625 1.875 ...\n",
       "  * lat       (lat) float32 -89.875 -89.625 -89.375 -89.125 -88.875 -88.625 ...\n",
       "  * nv        (nv) int32 0 1\n",
       "  * time      (time) datetime64[ns] 1993-01-01 1993-01-02 1993-01-03 ...\n",
       "Data variables:\n",
       "    crs       (time) int32 -2147483647 -2147483647 -2147483647 -2147483647 ...\n",
       "    lat_bnds  (time, lat, nv) float32 -90.0 -89.75 -89.75 -89.5 -89.5 -89.25 ...\n",
       "    v         (time, lat, lon) float64 nan nan nan nan nan nan nan nan nan ...\n",
       "    lon_bnds  (time, lon, nv) float32 0.0 0.25 0.25 0.5 0.5 0.75 0.75 1.0 ...\n",
       "    u         (time, lat, lon) float64 nan nan nan nan nan nan nan nan nan ...\n",
       "Attributes:\n",
       "    comment: Surface product; Geostrophic Velocities referenced to the [1993, 2012] period\n",
       "    time_coverage_resolution: P1D\n",
       "    geospatial_vertical_max: 0.0\n",
       "    product_version: 5.0\n",
       "    geospatial_lat_units: degrees_north\n",
       "    geospatial_lon_units: degrees_east\n",
       "    references: www.aviso.altimetry.fr\n",
       "    Conventions: CF-1.6\n",
       "    geospatial_lat_max: 90.0\n",
       "    title: DT merged Global Ocean Gridded Geostrophic Velocities SSALTO/Duacs L4 product\n",
       "    standard_name_vocabulary: http://cf-pcmdi.llnl.gov/documents/cf-standard-names/standard-name-table/12/cf-standard-name-table.html\n",
       "    platform: ERS-1, Topex/Poseidon\n",
       "    geospatial_lat_min: -90.0\n",
       "    geospatial_lat_resolution: 0.25\n",
       "    institution: CNES, CLS\n",
       "    geospatial_lon_max: 360.0\n",
       "    geospatial_lon_min: 0.0\n",
       "    geospatial_lon_resolution: 0.25\n",
       "    nco_openmp_thread_number: 1\n",
       "    license: http://www.aviso.altimetry.fr/fileadmin/documents/data/License_Aviso.pdf\n",
       "    summary: This dataset contains Delayed Time Level-4 geostrophic velocities products from multi-satellite observations over Global Ocean.\n",
       "    project: SSALTO/DUACS\n",
       "    cdm_data_type: Grid\n",
       "    contact: aviso@altimetry.fr\n",
       "    NCO: 4.4.4\n",
       "    geospatial_vertical_min: 0.0\n",
       "    date_created: 2014-02-27 16:46:18\n",
       "    history: Sat Jul 11 18:01:47 2015: ncrcat all/dt_global_allsat_msla_uv_19930101_20140106.nc all/dt_global_allsat_msla_uv_19930102_20140106.nc all/dt_global_allsat_msla_uv_19930103_20140106.nc all/dt_global_allsat_msla_uv_19930104_20140106.nc all/dt_global_allsat_msla_uv_19930105_20140106.nc all/dt_global_allsat_msla_uv_19930106_20140106.nc all/dt_global_allsat_msla_uv_19930107_20140106.nc all/dt_global_allsat_msla_uv_19930108_20140106.nc all/dt_global_allsat_msla_uv_19930109_20140106.nc all/dt_global_..."
      ]
     },
     "execution_count": 2,
     "metadata": {},
     "output_type": "execute_result"
    }
   ],
   "source": [
    "ddir = '/data/scratch/rpa/aviso/ftp.aviso.altimetry.fr/global/delayed-time/grids/msla/all-sat-merged'\n",
    "ds = xray.open_mfdataset(os.path.join(ddir,'uv','all-monthly','*.nc'), engine='scipy')\n",
    "ds"
   ]
  },
  {
   "cell_type": "code",
   "execution_count": 3,
   "metadata": {
    "collapsed": false
   },
   "outputs": [
    {
     "data": {
      "text/plain": [
       "133.3635335"
      ]
     },
     "execution_count": 3,
     "metadata": {},
     "output_type": "execute_result"
    }
   ],
   "source": [
    "ds.nbytes / 1e9"
   ]
  },
  {
   "cell_type": "markdown",
   "metadata": {},
   "source": [
    "## Description of Calcuation ##\n",
    "\n",
    "The original datset ds contains daily values of two velocity variables, $u$ and $v$. The calculation I want to perform has the following steps\n",
    "\n",
    "* Apply a high pass filter to $u$ and $v$ at each time point:\n",
    "    * Convolve each variable with a 2d gaussian kernel to produce a spatially smoothed field using the [astropy convolution routines](http://astropy.readthedocs.org/en/latest/convolution/), which have proper treatment of missing values.\n",
    "    * Subtract the smoothed field from the original field\n",
    "* calculate the kinetic energy $(u^2 + v^2)/$\n",
    "* resample the kinetic energy field at monthly resolution\n",
    "* save the result to a new netcdf file\n",
    " \n",
    "The problem is that the astropy convolution function only operates on numpy arrays. So I tried accessing the underlying dask arrays using [dask.map_blocks](http://dask.pydata.org/en/latest/array-api.html?highlight=map_blocks#dask.array.core.Array.map_blocks). The code below works, but evidently it does not multithread (CPU usage for the process never exceeds 100%). The convolution is a very CPU-intensive operation, so I would really like to take advantage of dask multithreading.\n"
   ]
  },
  {
   "cell_type": "code",
   "execution_count": 3,
   "metadata": {
    "collapsed": false
   },
   "outputs": [],
   "source": [
    "FILTER_STDDEV=2\n",
    "\n",
    "def high_pass_filter(np_ar):\n",
    "    gaussian_kernel = Gaussian2DKernel(stddev=FILTER_STDDEV)\n",
    "    if (np_ar.ndim > 2) and (np_ar.shape[0]>1):\n",
    "        out = np.zeros_like(np_ar)\n",
    "        for k in xrange(np_ar.shape[0]):\n",
    "            out[k] = convolve(np_ar[k], gaussian_kernel, boundary='wrap')\n",
    "        return np_ar - out\n",
    "    elif (np_ar.ndim > 2):\n",
    "        return np_ar - convolve(np_ar.squeeze(), gaussian_kernel, boundary='wrap')[np.newaxis,:,:]\n",
    "    else:\n",
    "        return np_ar - convolve(np_ar, gaussian_kernel, boundary='wrap')    \n",
    "    "
   ]
  },
  {
   "cell_type": "code",
   "execution_count": 7,
   "metadata": {
    "collapsed": false
   },
   "outputs": [
    {
     "data": {
      "text/plain": [
       "<xray.Dataset>\n",
       "Dimensions:  (lat: 720, lon: 1440, time: 1607)\n",
       "Coordinates:\n",
       "  * lon      (lon) float32 0.125 0.375 0.625 0.875 1.125 1.375 1.625 1.875 ...\n",
       "  * time     (time) datetime64[ns] 1993-01-01 1993-01-06 1993-01-11 ...\n",
       "  * lat      (lat) float32 -89.875 -89.625 -89.375 -89.125 -88.875 -88.625 ...\n",
       "Data variables:\n",
       "    u        (time, lat, lon) float64 nan nan nan nan nan nan nan nan nan ...\n",
       "    v        (time, lat, lon) float64 nan nan nan nan nan nan nan nan nan ..."
      ]
     },
     "execution_count": 7,
     "metadata": {},
     "output_type": "execute_result"
    }
   ],
   "source": [
    "TIME_SUBSAMPLE = 5 # don't bother doing every day--there's no variance\n",
    "TIME_LIMIT = 12*12\n",
    "\n",
    "u = ds['u'][::TIME_SUBSAMPLE]\n",
    "v = ds['v'][::TIME_SUBSAMPLE]\n",
    "\n",
    "ufilt = u.data.map_blocks(high_pass_filter, dtype=np.float64)\n",
    "vfilt = v.data.map_blocks(high_pass_filter, dtype=np.float64)\n",
    "\n",
    "filtered_ds = xray.Dataset({'u':(u.dims, ufilt),\n",
    "                            'v':(u.dims, vfilt)},\n",
    "                              coords=u.coords )\n",
    "filtered_ds"
   ]
  },
  {
   "cell_type": "code",
   "execution_count": 9,
   "metadata": {
    "collapsed": false
   },
   "outputs": [
    {
     "data": {
      "text/plain": [
       "<xray.Dataset>\n",
       "Dimensions:  (lat: 720, lon: 1440, time: 1607)\n",
       "Coordinates:\n",
       "  * lat      (lat) float32 -89.875 -89.625 -89.375 -89.125 -88.875 -88.625 ...\n",
       "  * lon      (lon) float32 0.125 0.375 0.625 0.875 1.125 1.375 1.625 1.875 ...\n",
       "  * time     (time) datetime64[ns] 1993-01-01 1993-01-06 1993-01-11 ...\n",
       "    month    (time) int32 1 1 1 1 1 1 1 2 2 2 2 2 3 3 3 3 3 3 4 4 4 4 4 4 5 ...\n",
       "Data variables:\n",
       "    v        (time, lat, lon) float64 nan nan nan nan nan nan nan nan nan ...\n",
       "    u        (time, lat, lon) float64 nan nan nan nan nan nan nan nan nan ..."
      ]
     },
     "execution_count": 9,
     "metadata": {},
     "output_type": "execute_result"
    }
   ],
   "source": [
    "# still contains the seasonal cycle eke\n",
    "# (e.g. large-scale gyre shifts)\n",
    "uv_clim = filtered_ds.groupby('time.month').mean('time')\n",
    "uv_anom = filtered_ds.groupby('time.month') - uv_clim\n",
    "uv_anom"
   ]
  },
  {
   "cell_type": "code",
   "execution_count": 10,
   "metadata": {
    "collapsed": false
   },
   "outputs": [],
   "source": [
    "# \n",
    "eke = 0.5*(uv_anom.u**2 + uv_anom.v**2)\n",
    "eke_monthly = eke.resample('MS', 'time')"
   ]
  },
  {
   "cell_type": "code",
   "execution_count": 16,
   "metadata": {
    "collapsed": false
   },
   "outputs": [
    {
     "name": "stdout",
     "output_type": "stream",
     "text": [
      "CPU times: user 2h 1min 44s, sys: 1min 43s, total: 2h 3min 28s\n",
      "Wall time: 4min 2s\n"
     ]
    }
   ],
   "source": [
    "eke_monthly_ds = eke_monthly.to_dataset(name='eke')\n",
    "%time eke_monthly_ds.to_netcdf(os.path.join(ddir,'uv','ekea_monthly_mean_filtered-%g.nc' % FILTER_STDDEV))"
   ]
  },
  {
   "cell_type": "code",
   "execution_count": null,
   "metadata": {
    "collapsed": true
   },
   "outputs": [],
   "source": []
  }
 ],
 "metadata": {
  "gist_id": "4c2bdf29b7c342fa4f98",
  "kernelspec": {
   "display_name": "Python 2.7",
   "language": "python",
   "name": "python2"
  },
  "language_info": {
   "codemirror_mode": {
    "name": "ipython",
    "version": 2
   },
   "file_extension": ".py",
   "mimetype": "text/x-python",
   "name": "python",
   "nbconvert_exporter": "python",
   "pygments_lexer": "ipython2",
   "version": "2.7.10"
  }
 },
 "nbformat": 4,
 "nbformat_minor": 0
}
